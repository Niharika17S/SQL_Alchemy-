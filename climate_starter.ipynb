{
 "cells": [
  {
   "cell_type": "code",
   "execution_count": 28,
   "metadata": {},
   "outputs": [],
   "source": [
    "%matplotlib inline\n",
    "from matplotlib import style\n",
    "style.use('fivethirtyeight')\n",
    "import matplotlib.pyplot as plt\n",
    "\n",
    "import numpy as np\n",
    "import pandas as pd\n",
    "\n",
    "import datetime as dt\n",
    "# Python SQL toolkit and Object Relational Mapper\n",
    "import sqlalchemy\n",
    "from sqlalchemy.ext.automap import automap_base\n",
    "from sqlalchemy.orm import Session\n",
    "from sqlalchemy import create_engine, func,inspect\n",
    "\n",
    "from flask import Flask, jsonify"
   ]
  },
  {
   "cell_type": "markdown",
   "metadata": {},
   "source": [
    "# Reflect Tables into SQLAlchemy ORM"
   ]
  },
  {
   "cell_type": "code",
   "execution_count": 2,
   "metadata": {},
   "outputs": [],
   "source": [
    "# SQL Connection\n",
    "engine = create_engine(\"sqlite:///Resources/hawaii.sqlite\")\n",
    "Base = automap_base()\n",
    "Base.prepare(engine, reflect=True)"
   ]
  },
  {
   "cell_type": "code",
   "execution_count": 3,
   "metadata": {},
   "outputs": [
    {
     "data": {
      "text/plain": [
       "['measurement', 'station']"
      ]
     },
     "execution_count": 3,
     "metadata": {},
     "output_type": "execute_result"
    }
   ],
   "source": [
    "# Use the Inspector to explore the database and print the table names\n",
    "inspector = inspect(engine)\n",
    "inspector.get_table_names()"
   ]
  },
  {
   "cell_type": "code",
   "execution_count": 4,
   "metadata": {},
   "outputs": [
    {
     "name": "stdout",
     "output_type": "stream",
     "text": [
      "id INTEGER\n",
      "station TEXT\n",
      "name TEXT\n",
      "latitude FLOAT\n",
      "longitude FLOAT\n",
      "elevation FLOAT\n"
     ]
    }
   ],
   "source": [
    "columns = inspector.get_columns('station')\n",
    "for c in columns:\n",
    "    print(c['name'], c[\"type\"])"
   ]
  },
  {
   "cell_type": "code",
   "execution_count": 5,
   "metadata": {},
   "outputs": [
    {
     "name": "stdout",
     "output_type": "stream",
     "text": [
      "id INTEGER\n",
      "station TEXT\n",
      "date TEXT\n",
      "prcp FLOAT\n",
      "tobs FLOAT\n"
     ]
    }
   ],
   "source": [
    "columns = inspector.get_columns('measurement')\n",
    "for c in columns:\n",
    "    print(c['name'], c[\"type\"])"
   ]
  },
  {
   "cell_type": "code",
   "execution_count": 6,
   "metadata": {},
   "outputs": [
    {
     "name": "stdout",
     "output_type": "stream",
     "text": [
      "(1, 'USC00519397', '2010-01-01', 0.08, 65.0)\n",
      "(2, 'USC00519397', '2010-01-02', 0.0, 63.0)\n",
      "(3, 'USC00519397', '2010-01-03', 0.0, 74.0)\n",
      "(4, 'USC00519397', '2010-01-04', 0.0, 76.0)\n",
      "(5, 'USC00519397', '2010-01-06', None, 73.0)\n"
     ]
    }
   ],
   "source": [
    "data = engine.execute(\"select * from measurement limit 5\").fetchall()\n",
    "for x in data:\n",
    "    print(x)"
   ]
  },
  {
   "cell_type": "code",
   "execution_count": 7,
   "metadata": {},
   "outputs": [],
   "source": [
    "# Reflect Database into ORM class\n",
    "Base = automap_base()\n",
    "# reflect the tables\n",
    "Base.prepare(engine, reflect=True)"
   ]
  },
  {
   "cell_type": "code",
   "execution_count": 8,
   "metadata": {},
   "outputs": [
    {
     "data": {
      "text/plain": [
       "['measurement', 'station']"
      ]
     },
     "execution_count": 8,
     "metadata": {},
     "output_type": "execute_result"
    }
   ],
   "source": [
    "# We can view all of the classes that automap found\n",
    "Base.classes.keys()"
   ]
  },
  {
   "cell_type": "code",
   "execution_count": 9,
   "metadata": {},
   "outputs": [],
   "source": [
    "# Save references to each table\n",
    "Measurement = Base.classes.measurement\n",
    "Station = Base.classes.station"
   ]
  },
  {
   "cell_type": "code",
   "execution_count": 10,
   "metadata": {},
   "outputs": [],
   "source": [
    "# Create our session (link) from Python to the DB\n",
    "session = Session(engine)"
   ]
  },
  {
   "cell_type": "markdown",
   "metadata": {},
   "source": [
    "# Precipitation Analysis"
   ]
  },
  {
   "cell_type": "code",
   "execution_count": 11,
   "metadata": {},
   "outputs": [
    {
     "data": {
      "text/plain": [
       "'2017-08-23'"
      ]
     },
     "execution_count": 11,
     "metadata": {},
     "output_type": "execute_result"
    }
   ],
   "source": [
    "# Last Date\n",
    "last_date = session.query(Measurement.date).\\\n",
    "    order_by(Measurement.date.desc()).first().date\n",
    "last_date"
   ]
  },
  {
   "cell_type": "code",
   "execution_count": 12,
   "metadata": {},
   "outputs": [
    {
     "data": {
      "text/plain": [
       "datetime.datetime(2016, 8, 23, 0, 0)"
      ]
     },
     "execution_count": 12,
     "metadata": {},
     "output_type": "execute_result"
    }
   ],
   "source": [
    "past12mth_date = dt.datetime.strptime(last_date, '%Y-%m-%d') - dt.timedelta(days=365)\n",
    "past12mth_date"
   ]
  },
  {
   "cell_type": "code",
   "execution_count": 13,
   "metadata": {},
   "outputs": [
    {
     "name": "stdout",
     "output_type": "stream",
     "text": [
      "[('2016-08-24', 1.45), ('2016-08-25', 0.11), ('2016-08-26', 0.01), ('2016-08-27', None), ('2016-08-28', 2.07), ('2016-08-29', 0.9), ('2016-08-30', 0.05), ('2016-08-31', 2.46), ('2016-09-01', 0.01), ('2016-09-02', 0.03), ('2016-09-03', 1.0), ('2016-09-04', 0.44), ('2016-09-05', 0.18), ('2016-09-06', 1.0), ('2016-09-07', 1.35), ('2016-09-08', 0.15), ('2016-09-09', 0.35), ('2016-09-10', 1.16), ('2016-09-11', 0.6), ('2016-09-12', 1.04), ('2016-09-13', 1.2), ('2016-09-14', 6.7), ('2016-09-15', 3.35), ('2016-09-16', 0.61), ('2016-09-17', 0.23), ('2016-09-18', 0.42), ('2016-09-19', 0.25), ('2016-09-20', 0.43), ('2016-09-21', 1.02), ('2016-09-22', 0.75), ('2016-09-23', 0.33), ('2016-09-24', 0.27), ('2016-09-25', 0.04), ('2016-09-26', 1.02), ('2016-09-27', 1.0), ('2016-09-28', 0.05), ('2016-09-29', 1.49), ('2016-09-30', 0.38), ('2016-10-01', 1.02), ('2016-10-02', 0.61), ('2016-10-03', 0.46), ('2016-10-04', 3.46), ('2016-10-05', 0.81), ('2016-10-06', 0.04), ('2016-10-07', 0.01), ('2016-10-08', 0.04), ('2016-10-09', 0.0), ('2016-10-10', 0.0), ('2016-10-11', 0.35), ('2016-10-12', 0.02), ('2016-10-13', 0.06), ('2016-10-14', 0.0), ('2016-10-15', 0.33), ('2016-10-16', 0.0), ('2016-10-17', 0.38), ('2016-10-18', 0.48), ('2016-10-19', 0.0), ('2016-10-20', 1.0), ('2016-10-21', 0.09), ('2016-10-22', 1.37), ('2016-10-23', 0.24), ('2016-10-24', 0.7), ('2016-10-25', 0.4), ('2016-10-26', 0.0), ('2016-10-27', 1.25), ('2016-10-28', 0.37), ('2016-10-29', 0.25), ('2016-10-30', 0.95), ('2016-10-31', 1.35), ('2016-11-01', 0.09), ('2016-11-02', 0.04), ('2016-11-03', 0.02), ('2016-11-04', 0.06), ('2016-11-05', 0.38), ('2016-11-06', 0.05), ('2016-11-07', 0.05), ('2016-11-08', 0.53), ('2016-11-09', 0.04), ('2016-11-10', 0.01), ('2016-11-11', 0.0), ('2016-11-12', 0.0), ('2016-11-13', 0.0), ('2016-11-14', 0.02), ('2016-11-15', 0.05), ('2016-11-16', 0.91), ('2016-11-17', 0.02), ('2016-11-18', 0.0), ('2016-11-19', 0.11), ('2016-11-20', None), ('2016-11-21', 2.87), ('2016-11-22', 2.11), ('2016-11-23', 0.22), ('2016-11-24', 0.72), ('2016-11-25', 1.03), ('2016-11-26', 0.3), ('2016-11-27', 0.29), ('2016-11-28', 0.69), ('2016-11-29', 0.2), ('2016-11-30', 0.79), ('2016-12-01', 0.72), ('2016-12-02', 1.27), ('2016-12-03', 1.62), ('2016-12-04', 0.31), ('2016-12-05', 1.6), ('2016-12-06', 0.0), ('2016-12-07', 0.02), ('2016-12-08', 0.03), ('2016-12-09', 0.42), ('2016-12-10', 0.04), ('2016-12-11', 0.13), ('2016-12-12', 0.01), ('2016-12-13', 0.09), ('2016-12-14', 0.33), ('2016-12-15', 0.03), ('2016-12-16', 0.0), ('2016-12-17', 0.07), ('2016-12-18', None), ('2016-12-19', 0.15), ('2016-12-20', 0.0), ('2016-12-21', 0.55), ('2016-12-22', 1.24), ('2016-12-23', 0.83), ('2016-12-24', 1.08), ('2016-12-25', 0.38), ('2016-12-26', 1.48), ('2016-12-27', 0.14), ('2016-12-28', 0.14), ('2016-12-29', 1.03), ('2016-12-30', 2.37), ('2016-12-31', 0.9), ('2017-01-01', 0.03), ('2017-01-02', 0.0), ('2017-01-03', 0.0), ('2017-01-04', 0.0), ('2017-01-05', 0.47), ('2017-01-06', 0.1), ('2017-01-07', 0.0), ('2017-01-08', 0.03), ('2017-01-09', 0.0), ('2017-01-10', 0.0), ('2017-01-11', 0.0), ('2017-01-12', 0.0), ('2017-01-13', 0.0), ('2017-01-14', 0.0), ('2017-01-15', 0.01), ('2017-01-16', 0.0), ('2017-01-17', 0.0), ('2017-01-18', 0.07), ('2017-01-19', 0.0), ('2017-01-20', 0.0), ('2017-01-21', 0.08), ('2017-01-22', 0.72), ('2017-01-23', 0.85), ('2017-01-24', 1.85), ('2017-01-25', 2.64), ('2017-01-26', 0.1), ('2017-01-27', 0.03), ('2017-01-28', 0.0), ('2017-01-29', 0.55), ('2017-01-30', 0.0), ('2017-01-31', 0.0), ('2017-02-01', 0.0), ('2017-02-02', 0.0), ('2017-02-03', 0.0), ('2017-02-04', None), ('2017-02-05', 0.0), ('2017-02-06', 0.0), ('2017-02-07', 1.79), ('2017-02-08', 0.0), ('2017-02-09', 0.0), ('2017-02-10', 0.0), ('2017-02-11', 0.73), ('2017-02-12', 1.83), ('2017-02-13', 0.0), ('2017-02-14', 0.01), ('2017-02-15', 0.07), ('2017-02-16', 0.13), ('2017-02-17', 0.13), ('2017-02-18', None), ('2017-02-19', 0.1), ('2017-02-20', 0.0), ('2017-02-21', 0.07), ('2017-02-22', 0.32), ('2017-02-23', 0.0), ('2017-02-24', 0.0), ('2017-02-25', 0.12), ('2017-02-26', 0.0), ('2017-02-27', 0.0), ('2017-02-28', 0.58), ('2017-03-01', 2.0), ('2017-03-02', 0.58), ('2017-03-03', 0.56), ('2017-03-04', 0.0), ('2017-03-05', 0.35), ('2017-03-06', 0.0), ('2017-03-07', 0.0), ('2017-03-08', 0.0), ('2017-03-09', 0.01), ('2017-03-10', 0.0), ('2017-03-11', 0.0), ('2017-03-12', 0.0), ('2017-03-13', None), ('2017-03-14', 0.0), ('2017-03-15', 0.0), ('2017-03-16', 0.0), ('2017-03-17', 0.12), ('2017-03-18', None), ('2017-03-19', 0.0), ('2017-03-20', 0.0), ('2017-03-21', 0.0), ('2017-03-22', 0.0), ('2017-03-23', 0.03), ('2017-03-24', 0.17), ('2017-03-25', 0.48), ('2017-03-26', 0.0), ('2017-03-27', 0.0), ('2017-03-28', 0.68), ('2017-03-29', 0.07), ('2017-03-30', 0.04), ('2017-03-31', None), ('2017-04-01', 0.2), ('2017-04-02', 0.0), ('2017-04-03', 0.23), ('2017-04-04', 0.02), ('2017-04-05', 0.45), ('2017-04-06', 0.0), ('2017-04-07', 0.0), ('2017-04-08', None), ('2017-04-09', 0.0), ('2017-04-10', 0.0), ('2017-04-11', 0.25), ('2017-04-12', 0.65), ('2017-04-13', 0.23), ('2017-04-14', 2.82), ('2017-04-15', 0.9), ('2017-04-16', 0.11), ('2017-04-17', 1.3), ('2017-04-18', 0.98), ('2017-04-19', 0.14), ('2017-04-20', 0.0), ('2017-04-21', 1.84), ('2017-04-22', 1.35), ('2017-04-23', 0.35), ('2017-04-24', 0.05), ('2017-04-25', 0.0), ('2017-04-26', 0.22), ('2017-04-27', 0.11), ('2017-04-28', 0.79), ('2017-04-29', 0.0), ('2017-04-30', 0.8), ('2017-05-01', 0.25), ('2017-05-02', 0.0), ('2017-05-03', 0.01), ('2017-05-04', None), ('2017-05-05', 0.1), ('2017-05-06', 0.0), ('2017-05-07', 0.03), ('2017-05-08', 1.11), ('2017-05-09', 0.23), ('2017-05-10', 0.55), ('2017-05-11', 0.44), ('2017-05-12', 0.1), ('2017-05-13', 0.1), ('2017-05-14', 1.0), ('2017-05-15', 0.6), ('2017-05-16', 0.3), ('2017-05-17', 0.06), ('2017-05-18', 0.0), ('2017-05-19', 0.01), ('2017-05-20', None), ('2017-05-21', 0.0), ('2017-05-22', 0.3), ('2017-05-23', 0.44), ('2017-05-24', 2.17), ('2017-05-25', 0.88), ('2017-05-26', 0.0), ('2017-05-27', 0.5), ('2017-05-28', 0.0), ('2017-05-29', 0.4), ('2017-05-30', None), ('2017-05-31', 0.25), ('2017-06-01', 0.01), ('2017-06-02', 0.09), ('2017-06-03', None), ('2017-06-04', 0.82), ('2017-06-05', 0.01), ('2017-06-06', 0.0), ('2017-06-07', 0.01), ('2017-06-08', 0.0), ('2017-06-09', 0.02), ('2017-06-10', None), ('2017-06-11', 0.7), ('2017-06-12', 0.81), ('2017-06-13', 0.65), ('2017-06-14', 0.81), ('2017-06-15', 1.69), ('2017-06-16', 0.1), ('2017-06-17', 0.1), ('2017-06-18', 0.7), ('2017-06-19', 0.4), ('2017-06-20', 0.31), ('2017-06-21', 0.3), ('2017-06-22', 0.28), ('2017-06-23', 0.5), ('2017-06-24', 0.22), ('2017-06-25', 0.5), ('2017-06-26', 0.02), ('2017-06-27', 0.1), ('2017-06-28', 0.02), ('2017-06-29', 0.04), ('2017-06-30', 0.2), ('2017-07-01', 0.1), ('2017-07-02', 0.5), ('2017-07-03', 0.4), ('2017-07-04', 0.0), ('2017-07-05', 0.0), ('2017-07-06', 0.02), ('2017-07-07', 0.3), ('2017-07-08', 0.02), ('2017-07-09', 0.0), ('2017-07-10', 0.02), ('2017-07-11', 0.0), ('2017-07-12', 0.05), ('2017-07-13', 0.68), ('2017-07-14', 0.68), ('2017-07-15', 0.1), ('2017-07-16', 0.5), ('2017-07-17', 0.39), ('2017-07-18', 2.4), ('2017-07-19', 0.27), ('2017-07-20', 0.7), ('2017-07-21', 0.1), ('2017-07-22', 4.0), ('2017-07-23', 0.8), ('2017-07-24', 0.84), ('2017-07-25', 0.3), ('2017-07-26', 0.3), ('2017-07-27', 0.0), ('2017-07-28', 0.4), ('2017-07-29', 0.3), ('2017-07-30', 0.3), ('2017-07-31', 0.0), ('2017-08-01', None), ('2017-08-02', 0.25), ('2017-08-03', 0.06), ('2017-08-04', 0.0), ('2017-08-05', None), ('2017-08-06', None), ('2017-08-07', 0.05), ('2017-08-08', 0.34), ('2017-08-09', 0.15), ('2017-08-10', 0.07), ('2017-08-11', None), ('2017-08-12', 0.14), ('2017-08-13', None), ('2017-08-14', 0.22), ('2017-08-15', 0.42), ('2017-08-16', 0.42), ('2017-08-17', 0.13), ('2017-08-18', None), ('2017-08-19', 0.09), ('2017-08-20', None), ('2017-08-21', 0.56), ('2017-08-22', 0.5), ('2017-08-23', 0.45)]\n"
     ]
    }
   ],
   "source": [
    "# Design a query to retrieve the last 12 months of precipitation data and plot the results\n",
    "prec_results = session.query(Measurement.date, Measurement.prcp).\\\n",
    "    filter(Measurement.date >= past12mth_date).\\\n",
    "    group_by(Measurement.date).all()         \n",
    "print(prec_results)\n"
   ]
  },
  {
   "cell_type": "code",
   "execution_count": 14,
   "metadata": {},
   "outputs": [
    {
     "data": {
      "text/html": [
       "<div>\n",
       "<style scoped>\n",
       "    .dataframe tbody tr th:only-of-type {\n",
       "        vertical-align: middle;\n",
       "    }\n",
       "\n",
       "    .dataframe tbody tr th {\n",
       "        vertical-align: top;\n",
       "    }\n",
       "\n",
       "    .dataframe thead th {\n",
       "        text-align: right;\n",
       "    }\n",
       "</style>\n",
       "<table border=\"1\" class=\"dataframe\">\n",
       "  <thead>\n",
       "    <tr style=\"text-align: right;\">\n",
       "      <th></th>\n",
       "      <th>Precipitation</th>\n",
       "    </tr>\n",
       "    <tr>\n",
       "      <th>Date</th>\n",
       "      <th></th>\n",
       "    </tr>\n",
       "  </thead>\n",
       "  <tbody>\n",
       "    <tr>\n",
       "      <th>2016-08-24</th>\n",
       "      <td>1.45</td>\n",
       "    </tr>\n",
       "    <tr>\n",
       "      <th>2016-08-25</th>\n",
       "      <td>0.11</td>\n",
       "    </tr>\n",
       "    <tr>\n",
       "      <th>2016-08-26</th>\n",
       "      <td>0.01</td>\n",
       "    </tr>\n",
       "    <tr>\n",
       "      <th>2016-08-27</th>\n",
       "      <td>NaN</td>\n",
       "    </tr>\n",
       "    <tr>\n",
       "      <th>2016-08-28</th>\n",
       "      <td>2.07</td>\n",
       "    </tr>\n",
       "  </tbody>\n",
       "</table>\n",
       "</div>"
      ],
      "text/plain": [
       "            Precipitation\n",
       "Date                     \n",
       "2016-08-24           1.45\n",
       "2016-08-25           0.11\n",
       "2016-08-26           0.01\n",
       "2016-08-27            NaN\n",
       "2016-08-28           2.07"
      ]
     },
     "execution_count": 14,
     "metadata": {},
     "output_type": "execute_result"
    }
   ],
   "source": [
    "#Pandas DataFrame for data and precipitation scores for the last 12 months\n",
    "prec_df = pd.DataFrame(prec_results, columns=['Date', 'Precipitation'])\n",
    "prec_df = prec_df.set_index('Date')\n",
    "prec_df.head()"
   ]
  },
  {
   "cell_type": "code",
   "execution_count": 34,
   "metadata": {},
   "outputs": [
    {
     "data": {
      "image/png": "[encoded data removed]",
      "text/plain": [
       "<Figure size 864x576 with 1 Axes>"
      ]
     },
     "metadata": {},
     "output_type": "display_data"
    }
   ],
   "source": [
    "#Plot the results using the DataFrame `plot` method\n",
    "prec_df.plot(kind=\"bar\", width=3, figsize=(12,8),rot=90)\n",
    "plt.title(\" Last 12 months of precipitation data\")\n",
    "plt.ylabel(\"Precipitation (Inches)\", size=18)\n",
    "plt.xlabel(\"Date\", size=18)\n",
    "plt.grid(True)\n",
    "plt.savefig(\"Images/Precipitation1.png\")\n",
    "plt.show()\n",
    "#plt.tight_layout()\n",
    "#plt.savefig(\"Images/Precipitation1.png\")\n"
   ]
  },
  {
   "cell_type": "code",
   "execution_count": 16,
   "metadata": {},
   "outputs": [
    {
     "data": {
      "text/html": [
       "<div>\n",
       "<style scoped>\n",
       "    .dataframe tbody tr th:only-of-type {\n",
       "        vertical-align: middle;\n",
       "    }\n",
       "\n",
       "    .dataframe tbody tr th {\n",
       "        vertical-align: top;\n",
       "    }\n",
       "\n",
       "    .dataframe thead th {\n",
       "        text-align: right;\n",
       "    }\n",
       "</style>\n",
       "<table border=\"1\" class=\"dataframe\">\n",
       "  <thead>\n",
       "    <tr style=\"text-align: right;\">\n",
       "      <th></th>\n",
       "      <th>Precipitation</th>\n",
       "    </tr>\n",
       "  </thead>\n",
       "  <tbody>\n",
       "    <tr>\n",
       "      <th>count</th>\n",
       "      <td>344.000000</td>\n",
       "    </tr>\n",
       "    <tr>\n",
       "      <th>mean</th>\n",
       "      <td>0.431308</td>\n",
       "    </tr>\n",
       "    <tr>\n",
       "      <th>std</th>\n",
       "      <td>0.705240</td>\n",
       "    </tr>\n",
       "    <tr>\n",
       "      <th>min</th>\n",
       "      <td>0.000000</td>\n",
       "    </tr>\n",
       "    <tr>\n",
       "      <th>25%</th>\n",
       "      <td>0.010000</td>\n",
       "    </tr>\n",
       "    <tr>\n",
       "      <th>50%</th>\n",
       "      <td>0.140000</td>\n",
       "    </tr>\n",
       "    <tr>\n",
       "      <th>75%</th>\n",
       "      <td>0.565000</td>\n",
       "    </tr>\n",
       "    <tr>\n",
       "      <th>max</th>\n",
       "      <td>6.700000</td>\n",
       "    </tr>\n",
       "  </tbody>\n",
       "</table>\n",
       "</div>"
      ],
      "text/plain": [
       "       Precipitation\n",
       "count     344.000000\n",
       "mean        0.431308\n",
       "std         0.705240\n",
       "min         0.000000\n",
       "25%         0.010000\n",
       "50%         0.140000\n",
       "75%         0.565000\n",
       "max         6.700000"
      ]
     },
     "execution_count": 16,
     "metadata": {},
     "output_type": "execute_result"
    }
   ],
   "source": [
    "# Use Pandas to calculate the summary statistics for the precipitation data\n",
    "\n",
    "prec_df.describe()"
   ]
  },
  {
   "cell_type": "markdown",
   "metadata": {},
   "source": [
    "### Station Analysis"
   ]
  },
  {
   "cell_type": "code",
   "execution_count": 17,
   "metadata": {},
   "outputs": [
    {
     "data": {
      "text/plain": [
       "[(1, 'USC00519397', 'WAIKIKI 717.2, HI US', 21.2716, -157.8168, 3.0),\n",
       " (2, 'USC00513117', 'KANEOHE 838.1, HI US', 21.4234, -157.8015, 14.6),\n",
       " (3, 'USC00514830', 'KUALOA RANCH HEADQUARTERS 886.9, HI US', 21.5213, -157.8374, 7.0),\n",
       " (4, 'USC00517948', 'PEARL CITY, HI US', 21.3934, -157.9751, 11.9),\n",
       " (5, 'USC00518838', 'UPPER WAHIAWA 874.3, HI US', 21.4992, -158.0111, 306.6),\n",
       " (6, 'USC00519523', 'WAIMANALO EXPERIMENTAL FARM, HI US', 21.33556, -157.71139, 19.5),\n",
       " (7, 'USC00519281', 'WAIHEE 837.5, HI US', 21.45167, -157.84888999999998, 32.9),\n",
       " (8, 'USC00511918', 'HONOLULU OBSERVATORY 702.2, HI US', 21.3152, -157.9992, 0.9),\n",
       " (9, 'USC00516128', 'MANOA LYON ARBO 785.2, HI US', 21.3331, -157.8025, 152.4)]"
      ]
     },
     "execution_count": 17,
     "metadata": {},
     "output_type": "execute_result"
    }
   ],
   "source": [
    "data = engine.execute(\"select * from Station\").fetchall()\n",
    "data"
   ]
  },
  {
   "cell_type": "code",
   "execution_count": 18,
   "metadata": {},
   "outputs": [
    {
     "name": "stdout",
     "output_type": "stream",
     "text": [
      "9\n"
     ]
    }
   ],
   "source": [
    "# Design a query to show how many stations are available in this dataset?\n",
    "station_ct = session.query(Station.station).count()\n",
    "print(station_ct) "
   ]
  },
  {
   "cell_type": "code",
   "execution_count": 19,
   "metadata": {},
   "outputs": [
    {
     "data": {
      "text/plain": [
       "[('WAIKIKI 717.2, HI US'),\n",
       " ('KANEOHE 838.1, HI US'),\n",
       " ('KUALOA RANCH HEADQUARTERS 886.9, HI US'),\n",
       " ('PEARL CITY, HI US'),\n",
       " ('UPPER WAHIAWA 874.3, HI US'),\n",
       " ('WAIMANALO EXPERIMENTAL FARM, HI US'),\n",
       " ('WAIHEE 837.5, HI US'),\n",
       " ('HONOLULU OBSERVATORY 702.2, HI US'),\n",
       " ('MANOA LYON ARBO 785.2, HI US')]"
      ]
     },
     "execution_count": 19,
     "metadata": {},
     "output_type": "execute_result"
    }
   ],
   "source": [
    "station_nm = session.query(Station.name).all()\n",
    "station_nm"
   ]
  },
  {
   "cell_type": "code",
   "execution_count": 20,
   "metadata": {},
   "outputs": [
    {
     "data": {
      "text/plain": [
       "[('USC00519281', 2772),\n",
       " ('USC00519397', 2724),\n",
       " ('USC00513117', 2709),\n",
       " ('USC00519523', 2669),\n",
       " ('USC00516128', 2612),\n",
       " ('USC00514830', 2202),\n",
       " ('USC00511918', 1979),\n",
       " ('USC00517948', 1372),\n",
       " ('USC00518838', 511)]"
      ]
     },
     "execution_count": 20,
     "metadata": {},
     "output_type": "execute_result"
    }
   ],
   "source": [
    "# What are the most active stations? (i.e. what stations have the most rows)?\n",
    "# List the stations and the counts in descending order.\n",
    "active_station = session.query(Measurement.station, func.count(Measurement.station)).\\\n",
    "            group_by(Measurement.station).\\\n",
    "            order_by(func.count(Measurement.station).desc()).all()\n",
    "active_station    \n",
    "\n"
   ]
  },
  {
   "cell_type": "code",
   "execution_count": 21,
   "metadata": {},
   "outputs": [
    {
     "data": {
      "text/plain": [
       "'USC00519281'"
      ]
     },
     "execution_count": 21,
     "metadata": {},
     "output_type": "execute_result"
    }
   ],
   "source": [
    "most_active_st = active_station[0][0]\n",
    "most_active_st"
   ]
  },
  {
   "cell_type": "code",
   "execution_count": 22,
   "metadata": {},
   "outputs": [
    {
     "data": {
      "text/plain": [
       "[('USC00519281', 54.0, 85.0, 71.66378066378067)]"
      ]
     },
     "execution_count": 22,
     "metadata": {},
     "output_type": "execute_result"
    }
   ],
   "source": [
    "# Using the station id from the previous query, calculate the lowest temperature recorded, \n",
    "# highest temperature recorded, and average temperature most active station?\n",
    "temp_station = session.query(Measurement.station,\n",
    "                               func.min(Measurement.tobs),\n",
    "                               func.max(Measurement.tobs),  \n",
    "                               func.avg(Measurement.tobs)).\\\n",
    "            filter(Measurement.station == most_active_st).all()\n",
    "temp_station"
   ]
  },
  {
   "cell_type": "code",
   "execution_count": 23,
   "metadata": {},
   "outputs": [
    {
     "data": {
      "text/html": [
       "<div>\n",
       "<style scoped>\n",
       "    .dataframe tbody tr th:only-of-type {\n",
       "        vertical-align: middle;\n",
       "    }\n",
       "\n",
       "    .dataframe tbody tr th {\n",
       "        vertical-align: top;\n",
       "    }\n",
       "\n",
       "    .dataframe thead th {\n",
       "        text-align: right;\n",
       "    }\n",
       "</style>\n",
       "<table border=\"1\" class=\"dataframe\">\n",
       "  <thead>\n",
       "    <tr style=\"text-align: right;\">\n",
       "      <th></th>\n",
       "      <th>Tobs</th>\n",
       "    </tr>\n",
       "    <tr>\n",
       "      <th>Station</th>\n",
       "      <th></th>\n",
       "    </tr>\n",
       "  </thead>\n",
       "  <tbody>\n",
       "    <tr>\n",
       "      <th>USC00519281</th>\n",
       "      <td>77.0</td>\n",
       "    </tr>\n",
       "    <tr>\n",
       "      <th>USC00519281</th>\n",
       "      <td>80.0</td>\n",
       "    </tr>\n",
       "    <tr>\n",
       "      <th>USC00519281</th>\n",
       "      <td>80.0</td>\n",
       "    </tr>\n",
       "    <tr>\n",
       "      <th>USC00519281</th>\n",
       "      <td>75.0</td>\n",
       "    </tr>\n",
       "    <tr>\n",
       "      <th>USC00519281</th>\n",
       "      <td>73.0</td>\n",
       "    </tr>\n",
       "  </tbody>\n",
       "</table>\n",
       "</div>"
      ],
      "text/plain": [
       "             Tobs\n",
       "Station          \n",
       "USC00519281  77.0\n",
       "USC00519281  80.0\n",
       "USC00519281  80.0\n",
       "USC00519281  75.0\n",
       "USC00519281  73.0"
      ]
     },
     "execution_count": 23,
     "metadata": {},
     "output_type": "execute_result"
    }
   ],
   "source": [
    "# Choose the station with the highest number of temperature observations.\n",
    "# Query the last 12 months of temperature observation data for this station and plot the results as a histogram\n",
    "highT_station = session.query(Measurement.station, Measurement.tobs).\\\n",
    "                filter(Measurement.station == most_active_st).\\\n",
    "                filter(Measurement.date >= past12mth_date).all()\n",
    "   \n",
    "highT_station_df = pd.DataFrame(highT_station, columns=['Station', 'Tobs'])\n",
    "highT_station_df = highT_station_df.set_index('Station')\n",
    "highT_station_df.head()"
   ]
  },
  {
   "cell_type": "code",
   "execution_count": 30,
   "metadata": {},
   "outputs": [
    {
     "data": {
      "image/png": "[encoded data removed]",
      "text/plain": [
       "<Figure size 864x576 with 1 Axes>"
      ]
     },
     "metadata": {},
     "output_type": "display_data"
    }
   ],
   "source": [
    "highT_station_df.hist(bins=12, figsize=(12,8),label = 'Tobs')\n",
    "plt.grid(True)\n",
    "plt.title(\"Highest Temperature Obs for \" + most_active_st,fontsize=16)\n",
    "plt.xlabel(\"Temperature Obs\", fontsize=16)\n",
    "plt.legend(loc='upper right')\n",
    "plt.show\n",
    "plt.savefig(\"Images/hightemperature.png\")"
   ]
  },
  {
   "cell_type": "code",
   "execution_count": 25,
   "metadata": {},
   "outputs": [
    {
     "data": {
      "text/plain": [
       "[(58.0, 73.8177641653905, 87.0)]"
      ]
     },
     "execution_count": 25,
     "metadata": {},
     "output_type": "execute_result"
    }
   ],
   "source": [
    "# This function called `calc_temps` will accept start date and end date in the format '%Y-%m-%d' \n",
    "# and return the minimum, average, and maximum temperatures for that range of dates\n",
    "def calc_temps(start_date, end_date):\n",
    "    temp_results = session.query(func.min(Measurement.tobs),\n",
    "                              func.avg(Measurement.tobs),\n",
    "                              func.max(Measurement.tobs)).\\\n",
    "               filter(Measurement.date >= start_date).\\\n",
    "               filter(Measurement.date <= end_date).all() \n",
    "    return temp_results\n",
    "                                 \n",
    "calc_temps('2017-01-01', '2017-08-00')"
   ]
  },
  {
   "cell_type": "code",
   "execution_count": null,
   "metadata": {},
   "outputs": [],
   "source": [
    "# Use your previous function `calc_temps` to calculate the tmin, tavg, and tmax \n",
    "# for your trip using the previous year's data for those same dates.\n"
   ]
  },
  {
   "cell_type": "code",
   "execution_count": null,
   "metadata": {},
   "outputs": [],
   "source": [
    "# Plot the results from your previous query as a bar chart. \n",
    "# Use \"Trip Avg Temp\" as your Title\n",
    "# Use the average temperature for the y value\n",
    "# Use the peak-to-peak (tmax-tmin) value as the y error bar (yerr)\n"
   ]
  },
  {
   "cell_type": "markdown",
   "metadata": {},
   "source": [
    "# Step 2 - Climate App"
   ]
  },
  {
   "cell_type": "code",
   "execution_count": null,
   "metadata": {},
   "outputs": [],
   "source": [
    "app = Flask(__name__)"
   ]
  },
  {
   "cell_type": "code",
   "execution_count": null,
   "metadata": {},
   "outputs": [],
   "source": [
    "@app.route(\"/\")\n",
    "def welcome1():\n",
    "    \"\"\"List all available api routes.\"\"\"\n",
    "    return (\n",
    "        f\"Available Routes:<br/>\"\n",
    "        f\"/api/v1.0/precipitation1<br/>\"\n",
    "        f\"/api/v1.0/stations<br/>\"\n",
    "        f\"/api/v1.0/<start_date>/<end_date>\"\n",
    "    )"
   ]
  },
  {
   "cell_type": "code",
   "execution_count": null,
   "metadata": {},
   "outputs": [],
   "source": [
    "@app.route(\"/api/v1.0/precipitation1\")\n",
    "def precipitation1():\n",
    "    last_date = session.query(Measurement.date).\\\n",
    "    order_by(Measurement.date.desc()).first().date\n",
    "    past12mth_date = dt.datetime.strptime(last_date, '%Y-%m-%d') - dt.timedelta(days=365)\n",
    "\n",
    "\n",
    "    tobs_results = session.query(Measurement.date, Measurement.tobs).\\\n",
    "        filter(Measurement.date >= past12mth_date).\\\n",
    "        group_by(Measurement.date).all()  \n",
    "\n",
    "    \n",
    "    temp_dict = [{element[0]:element[1]} for element in tobs_results]\n",
    "        \n",
    "    return  jsonify(temp_dict) \n",
    "    "
   ]
  },
  {
   "cell_type": "code",
   "execution_count": null,
   "metadata": {},
   "outputs": [],
   "source": [
    "@app.route(\"/api/v1.0/stations\")\n",
    "def stations():\n",
    "    station_nm = session.query(Station.station,Station.name).all()\n",
    "    return jsonify(station_nm)"
   ]
  },
  {
   "cell_type": "code",
   "execution_count": null,
   "metadata": {},
   "outputs": [],
   "source": [
    "@app.route(\"/api/v1.0/<start_date>/<end_date>\")\n",
    "def start_end1(start_date,end_date):\n",
    "    temp_results = session.query(func.min(Measurement.tobs),\n",
    "                            func.avg(Measurement.tobs),\n",
    "                            func.max(Measurement.tobs)).\\\n",
    "            filter(Measurement.date >= start_date).\\\n",
    "            filter(Measurement.date <= end_date).all() \n",
    "    return jsonify(temp_results)\n",
    "     "
   ]
  },
  {
   "cell_type": "code",
   "execution_count": null,
   "metadata": {},
   "outputs": [],
   "source": []
  },
  {
   "cell_type": "code",
   "execution_count": null,
   "metadata": {},
   "outputs": [],
   "source": []
  }
 ],
 "metadata": {
  "kernel_info": {
   "name": "python3"
  },
  "kernelspec": {
   "display_name": "Python 3",
   "language": "python",
   "name": "python3"
  },
  "language_info": {
   "codemirror_mode": {
    "name": "ipython",
    "version": 3
   },
   "file_extension": ".py",
   "mimetype": "text/x-python",
   "name": "python",
   "nbconvert_exporter": "python",
   "pygments_lexer": "ipython3",
   "version": "3.6.5"
  },
  "nteract": {
   "version": "0.9.1"
  },
  "varInspector": {
   "cols": {
    "lenName": 16,
    "lenType": 16,
    "lenVar": 40
   },
   "kernels_config": {
    "python": {
     "delete_cmd_postfix": "",
     "delete_cmd_prefix": "del ",
     "library": "var_list.py",
     "varRefreshCmd": "print(var_dic_list())"
    },
    "r": {
     "delete_cmd_postfix": ") ",
     "delete_cmd_prefix": "rm(",
     "library": "var_list.r",
     "varRefreshCmd": "cat(var_dic_list()) "
    }
   },
   "types_to_exclude": [
    "module",
    "function",
    "builtin_function_or_method",
    "instance",
    "_Feature"
   ],
   "window_display": false
  }
 },
 "nbformat": 4,
 "nbformat_minor": 2
}
